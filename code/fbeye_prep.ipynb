{
 "cells": [
  {
   "cell_type": "code",
   "execution_count": 1,
   "id": "b203a28c",
   "metadata": {},
   "outputs": [],
   "source": [
    "# KIC_8507979"
   ]
  },
  {
   "cell_type": "code",
   "execution_count": 5,
   "id": "9153a4d3",
   "metadata": {},
   "outputs": [],
   "source": [
    "%matplotlib inline\n",
    "import numpy as np\n",
    "import pandas as pd\n",
    "import matplotlib.pyplot as plt\n",
    "\n",
    "import lightkurve as lk\n",
    "from astropy.table import Table"
   ]
  },
  {
   "cell_type": "code",
   "execution_count": 24,
   "id": "3527b4ee",
   "metadata": {},
   "outputs": [],
   "source": [
    "lis = lk.search_lightcurve('8507979', mission='Kepler')\n",
    "\n",
    "for k in range(len(lis)):\n",
    "    lc = lis[k].download()\n",
    "    aok = (lc.quality == 0) & np.isfinite(lc.time.value) & np.isfinite(lc.flux.value)\n",
    "    \n",
    "    df_k = pd.DataFrame(data={'t':lc.time.value[aok], \n",
    "                              'f':lc.flux.value[aok], \n",
    "                              'e':lc.flux_err.value[aok]})\n",
    "    df_k.to_csv('../fbeye/KIC_8507979_'+str(lc.quarter)+'.csv', index=False, index_label=False,header=None)"
   ]
  },
  {
   "cell_type": "code",
   "execution_count": null,
   "id": "61246d65",
   "metadata": {},
   "outputs": [],
   "source": []
  }
 ],
 "metadata": {
  "kernelspec": {
   "display_name": "Python 3 (ipykernel)",
   "language": "python",
   "name": "python3"
  },
  "language_info": {
   "codemirror_mode": {
    "name": "ipython",
    "version": 3
   },
   "file_extension": ".py",
   "mimetype": "text/x-python",
   "name": "python",
   "nbconvert_exporter": "python",
   "pygments_lexer": "ipython3",
   "version": "3.8.13"
  }
 },
 "nbformat": 4,
 "nbformat_minor": 5
}
