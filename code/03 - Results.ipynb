{
 "cells": [
  {
   "cell_type": "markdown",
   "id": "9ec37362",
   "metadata": {},
   "source": [
    "mega notebook. fit & characterize FFD variations"
   ]
  },
  {
   "cell_type": "code",
   "execution_count": 3,
   "id": "429b9a8d",
   "metadata": {},
   "outputs": [],
   "source": [
    "%matplotlib inline\n",
    "import numpy as np\n",
    "import pandas as pd\n",
    "import matplotlib.pyplot as plt\n",
    "\n",
    "import lightkurve as lk\n",
    "from astropy.table import Table\n",
    "\n",
    "import sys\n",
    "sys.path.append('/Users/james/Dropbox/research_projects/FFD/')\n",
    "import FFD"
   ]
  },
  {
   "cell_type": "code",
   "execution_count": 4,
   "id": "34e6b389",
   "metadata": {},
   "outputs": [],
   "source": [
    "import matplotlib\n",
    "matplotlib.rcParams.update({'font.size':18})\n",
    "matplotlib.rcParams.update({'font.family':'serif'})"
   ]
  },
  {
   "cell_type": "code",
   "execution_count": null,
   "id": "8a49cb98",
   "metadata": {},
   "outputs": [],
   "source": []
  }
 ],
 "metadata": {
  "kernelspec": {
   "display_name": "Python 3 (ipykernel)",
   "language": "python",
   "name": "python3"
  },
  "language_info": {
   "codemirror_mode": {
    "name": "ipython",
    "version": 3
   },
   "file_extension": ".py",
   "mimetype": "text/x-python",
   "name": "python",
   "nbconvert_exporter": "python",
   "pygments_lexer": "ipython3",
   "version": "3.7.4"
  }
 },
 "nbformat": 4,
 "nbformat_minor": 5
}
